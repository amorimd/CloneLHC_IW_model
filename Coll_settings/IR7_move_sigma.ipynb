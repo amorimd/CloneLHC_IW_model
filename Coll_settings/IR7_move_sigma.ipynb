{
 "cells": [
  {
   "cell_type": "code",
   "execution_count": 57,
   "metadata": {
    "collapsed": false
   },
   "outputs": [
    {
     "name": "stdout",
     "output_type": "stream",
     "text": [
      "Writing IR7_move_sigma.py\n"
     ]
    }
   ],
   "source": [
    "%%writefile IR7_move_sigma.py\n",
    "#!/usr/bin/python\n",
    "\n",
    "import sys\n",
    "import numpy as np\n",
    "import csv\n",
    "import warnings\n",
    "\n",
    "en=3.5e-6 # emittance for collgaps\n",
    "gamma=6927. # gamma at 6.5TeV\n",
    "\n",
    "nsig_new_TCP7, nsig_new_TCSG7 = 4., 5.\n",
    "\n",
    "dircollscan=np.array(['LHC_ft_6.5TeV_B1_2016']);\n",
    "\n",
    "for name in dircollscan: \n",
    "    reader = csv.DictReader(open(name+'.txt'),delimiter='\\t')\n",
    "    lista=[];\n",
    "    for row in reader:\n",
    "        \n",
    "        if 'TCP' in row['Name'] and '7' in row['Name']:\n",
    "            print row['Name']\n",
    "            newrow=row.copy();\n",
    "            \n",
    "            \n",
    "            bety=eval(row['Betay[m]'])\n",
    "            betx=eval(row['Betax[m]'])\n",
    "            phi=eval(row['Angle[rad]'])\n",
    "            nsig=eval(row['nsig'])\n",
    "            sigma=np.sqrt(en/gamma*betx*np.cos(phi)**2+en/gamma*bety*np.sin(phi)**2)\n",
    "            hgap=sigma*nsig\n",
    "            if abs(hgap-eval(row['Halfgap[m]']))>1e-4:\n",
    "                warnings.warn('Warning: it seems the calculated gap differs the nominal gap in table!')\n",
    "            \n",
    "            nsig_new=nsig_new_TCP7\n",
    "            hgap_new=sigma*nsig_new\n",
    "            \n",
    "            newrow['Halfgap[m]']='%.5f'%(hgap_new);\n",
    "            newrow['nsig']='%.1f'%(nsig_new);\n",
    "            lista.append(newrow);\n",
    "        \n",
    "        if 'TCSG' in row['Name'] and '7' in row['Name']:\n",
    "            print row['Name']\n",
    "            newrow=row.copy();\n",
    "            \n",
    "            en=3.5e-6\n",
    "            gamma=6927.\n",
    "            bety=eval(row['Betay[m]'])\n",
    "            betx=eval(row['Betax[m]'])\n",
    "            phi=eval(row['Angle[rad]'])\n",
    "            nsig=eval(row['nsig'])\n",
    "            sigma=np.sqrt(en/gamma*betx*np.cos(phi)**2+en/gamma*bety*np.sin(phi)**2)\n",
    "            hgap=sigma*nsig\n",
    "            if abs(hgap-eval(row['Halfgap[m]']))>1e-4:\n",
    "                warnings.warn('Warning: it seems the calculated gap differs the nominal gap in table!')\n",
    "            \n",
    "            nsig_new=nsig_new_TCSG7\n",
    "            hgap_new=sigma*nsig_new\n",
    "            \n",
    "            newrow['Halfgap[m]']='%.5f'%(hgap_new);\n",
    "            newrow['nsig']='%.1f'%(nsig_new);\n",
    "            lista.append(newrow);\n",
    "            \n",
    "        else:\n",
    "            lista.append(row);\n",
    "            \n",
    "    name_converted=name+'_TCP7_%.1fsig_TCSG7_%.1fsig.txt'%(nsig_new_TCP7,nsig_new_TCSG7)\n",
    "    with open(name_converted, 'wb') as f:\n",
    "        # Assuming that all dictionaries in the list have the same keys.\n",
    "        headers = lista[0].keys()\n",
    "        csv_data = [headers];\n",
    "        for d in lista:\n",
    "            csv_data.append([d[h] for h in headers])\n",
    "        writer = csv.writer(f,delimiter='\\t')\n",
    "        writer.writerows(csv_data)\n",
    "    print name+' converted:'\n",
    "    print name_converted\n",
    "\n",
    "# row.items()\n",
    "\n"
   ]
  }
 ],
 "metadata": {
  "kernelspec": {
   "display_name": "Python 2",
   "language": "python",
   "name": "python2"
  },
  "language_info": {
   "codemirror_mode": {
    "name": "ipython",
    "version": 2
   },
   "file_extension": ".py",
   "mimetype": "text/x-python",
   "name": "python",
   "nbconvert_exporter": "python",
   "pygments_lexer": "ipython2",
   "version": "2.7.11"
  }
 },
 "nbformat": 4,
 "nbformat_minor": 0
}
