{
 "cells": [
  {
   "cell_type": "code",
   "execution_count": 1,
   "metadata": {
    "collapsed": true
   },
   "outputs": [],
   "source": [
    "%matplotlib inline\n",
    "\n",
    "import numpy as np\n",
    "import matplotlib as mpl\n",
    "import matplotlib.pyplot as plt\n",
    "import csv\n",
    "import Impedance as imp\n",
    "from  HLLHC_param import *\n",
    "from particle_param import proton_param\n",
    "import pickle as pkl\n",
    "import itertools"
   ]
  },
  {
   "cell_type": "markdown",
   "metadata": {},
   "source": [
    "### Beam dynamics parameters"
   ]
  },
  {
   "cell_type": "code",
   "execution_count": 3,
   "metadata": {
    "collapsed": true
   },
   "outputs": [],
   "source": [
    "e,m0,c,E0  = proton_param()\n",
    "machine = HLLHC(E0, E=7e12,scenario='Nominal LHC')\n",
    "machine.Qp = np.array([0])\n",
    "nxscan = np.array([0])\n",
    "machine.Nbscan = np.array([1e11])\n",
    "omegasscan = np.array([machine.Qs])\n",
    "machine.M = 1\n",
    "machine.taub = 0.92e-9\n",
    "mmax = 0"
   ]
  },
  {
   "cell_type": "code",
   "execution_count": null,
   "metadata": {
    "collapsed": true
   },
   "outputs": [],
   "source": [
    "mainDir='/afs/cern.ch/user/n/nbiancac/ln_work/scratch0/DELPHI_results/HLLHC/IP7-coatings/'\n",
    "\n",
    "ResultDir=mainDir+'Results/'\n",
    "\n",
    "comment=''; # for saved files\n",
    "filename=[\n",
    "    'HLLHC_15cm_7TeV_v1p2_1sigma-IR7_5umMo+MoC_IP7'] # name of collgaps files"
   ]
  },
  {
   "cell_type": "code",
   "execution_count": null,
   "metadata": {
    "collapsed": true
   },
   "outputs": [],
   "source": [
    "'data_vs_Qp_all_HLLHC_7000GeVHLLHC_15cm_7TeV_v1p2_1sigma-IR7_5umMo+MoC_IP7_2748b_d0p02_Nb2p2e11_converged_y_Z1.0_real.dat'"
   ]
  }
 ],
 "metadata": {
  "kernelspec": {
   "display_name": "Python 2",
   "language": "python",
   "name": "python2"
  },
  "language_info": {
   "codemirror_mode": {
    "name": "ipython",
    "version": 2
   },
   "file_extension": ".py",
   "mimetype": "text/x-python",
   "name": "python",
   "nbconvert_exporter": "python",
   "pygments_lexer": "ipython2",
   "version": "2.7.11"
  }
 },
 "nbformat": 4,
 "nbformat_minor": 0
}
